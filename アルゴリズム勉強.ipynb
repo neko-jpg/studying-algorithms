{
  "nbformat": 4,
  "nbformat_minor": 0,
  "metadata": {
    "colab": {
      "provenance": [],
      "toc_visible": true,
      "authorship_tag": "ABX9TyNqa4DLjHHcZy0Joc24wqR1",
      "include_colab_link": true
    },
    "kernelspec": {
      "name": "python3",
      "display_name": "Python 3"
    },
    "language_info": {
      "name": "python"
    }
  },
  "cells": [
    {
      "cell_type": "markdown",
      "metadata": {
        "id": "view-in-github",
        "colab_type": "text"
      },
      "source": [
        "<a href=\"https://colab.research.google.com/github/neko-jpg/studying-algorithms/blob/main/%E3%82%A2%E3%83%AB%E3%82%B4%E3%83%AA%E3%82%BA%E3%83%A0%E5%8B%89%E5%BC%B7.ipynb\" target=\"_parent\"><img src=\"https://colab.research.google.com/assets/colab-badge.svg\" alt=\"Open In Colab\"/></a>"
      ]
    },
    {
      "cell_type": "code",
      "execution_count": null,
      "metadata": {
        "colab": {
          "base_uri": "https://localhost:8080/"
        },
        "id": "LBFxHbIZvTJE",
        "outputId": "98da7eff-26ce-4320-9e62-12e0ac21df15"
      },
      "outputs": [
        {
          "output_type": "stream",
          "name": "stdout",
          "text": [
            "[30, 50, 51, 56, 70, 80]\n"
          ]
        }
      ],
      "source": [
        "a = [80,50,56,30,51,70]\n",
        "N = len(a)\n",
        "for i in range(N-1):\n",
        "  Min = a[i]\n",
        "  s = i\n",
        "  for j in range(i+1,N):\n",
        "    if a[j]<Min:\n",
        "      Min =a[j]\n",
        "      s = j\n",
        "  a[i],a[s],=a[s],a[i]\n",
        "print(a)"
      ]
    },
    {
      "cell_type": "code",
      "source": [
        "a = [80,50,56,30,51,70]\n",
        "N = len(a)\n",
        "\n",
        "for i in range(N-1):\n",
        "  for j in range(N-1,i,-1):\n",
        "    if a[j] < a[j-1]:\n",
        "      a[j],a[j-1] = a[j-1],a[j]\n",
        "print(a)"
      ],
      "metadata": {
        "colab": {
          "base_uri": "https://localhost:8080/"
        },
        "id": "WXf7s8RMx_cA",
        "outputId": "cd4ec732-f1e6-4403-886b-38c2bf7ee96e"
      },
      "execution_count": null,
      "outputs": [
        {
          "output_type": "stream",
          "name": "stdout",
          "text": [
            "[30, 50, 51, 56, 70, 80]\n"
          ]
        }
      ]
    },
    {
      "cell_type": "code",
      "source": [
        "a = [3,5,6,9,2,7,8,10,4]\n",
        "N = len(a)\n",
        "\n",
        "left,right=0,1\n",
        "while left < right:\n",
        "  for i in range(left,right):\n",
        "    if a[i] > a [i+1]:\n",
        "      a[i],a[i+1] = a[i+1],a[i]\n",
        "      shift = i\n",
        "  right = shift\n",
        "  for i in range(right,left,-1):\n",
        "    if a[i] < a[i-1]:\n",
        "      a[i],a[i-1] = a[i-1],a[i]\n",
        "      shift = i\n",
        "  left = shift\n",
        "print(a)\n"
      ],
      "metadata": {
        "id": "hmRB-YhwzOi2"
      },
      "execution_count": null,
      "outputs": []
    },
    {
      "cell_type": "code",
      "source": [
        "kana = [\"こばやし\",\"いとう\",\"さとう\",\"うえはら\",\"いのうえ\",\"かさい\"]\n",
        "kanji = [\"小林\",\"伊藤\",\"佐藤\",\"上原\",\"井上\",\"河西\"]\n",
        "index = [0,1,2,3,4,5]\n",
        "\n",
        "N = len(kana)\n",
        "for i in range(N-1):\n",
        "  for j in range(N-1,i,-1):\n",
        "    if kana[index[j]] < kana[index[j-1]]:\n",
        "      index[j],index[j-1] = index[j-1],index[j]\n",
        "\n",
        "for i in range(N):\n",
        "  print(\"{:s}{:s}\".format(kanji[index[i]],kana[index[i]]))"
      ],
      "metadata": {
        "colab": {
          "base_uri": "https://localhost:8080/"
        },
        "id": "L4eppz5G3pTm",
        "outputId": "eb24a730-eae6-4f69-db45-d85b6dfa50b1"
      },
      "execution_count": null,
      "outputs": [
        {
          "output_type": "stream",
          "name": "stdout",
          "text": [
            "伊藤いとう\n",
            "井上いのうえ\n",
            "上原うえはら\n",
            "河西かさい\n",
            "小林こばやし\n",
            "佐藤さとう\n"
          ]
        }
      ]
    },
    {
      "cell_type": "code",
      "source": [
        "import random\n",
        "\n",
        "N = 100\n",
        "a = [random.randint(1,1000) for i in range(N)]\n",
        "\n",
        "for i in range(1,N):\n",
        "  for j in range(i-1,-1,-1):\n",
        "    if a[j]>a[j+1]:\n",
        "      a[j],a[j+1] = a[j+1],a[j]\n",
        "    else:\n",
        "      break\n",
        "print(a)"
      ],
      "metadata": {
        "colab": {
          "base_uri": "https://localhost:8080/"
        },
        "id": "yVoERfj3KdtJ",
        "outputId": "7e64337a-7487-448b-c675-102434883369"
      },
      "execution_count": null,
      "outputs": [
        {
          "output_type": "stream",
          "name": "stdout",
          "text": [
            "[9, 30, 61, 68, 96, 103, 105, 113, 125, 128, 132, 136, 137, 143, 145, 146, 184, 205, 205, 207, 211, 221, 231, 252, 261, 269, 274, 282, 282, 284, 319, 328, 355, 364, 388, 410, 416, 444, 450, 452, 463, 485, 496, 504, 510, 517, 535, 543, 547, 563, 576, 577, 597, 621, 645, 666, 688, 705, 720, 725, 736, 746, 756, 761, 763, 764, 766, 770, 775, 782, 786, 790, 796, 802, 813, 822, 845, 865, 870, 870, 871, 875, 881, 884, 888, 903, 913, 927, 937, 941, 945, 947, 952, 963, 964, 971, 975, 978, 989, 996]\n"
          ]
        }
      ]
    },
    {
      "cell_type": "code",
      "source": [
        "import random\n",
        "\n",
        "N = 100\n",
        "a = [random.randint(1,1000) for i in range(N)]\n",
        "\n",
        "gap = N//2\n",
        "while gap > 0:\n",
        "  for k in range(gap):\n",
        "    for i in range(k+gap,N,gap):\n",
        "      for j in range(i-gap,ｋ-1,-gap):\n",
        "        if a[j]>a[j+gap]:\n",
        "          a[j],a[j+gap] = a[j+gap],a[j]\n",
        "        else:\n",
        "            break\n",
        "\n",
        "  gap//=2\n",
        "\n",
        "print(a)"
      ],
      "metadata": {
        "colab": {
          "base_uri": "https://localhost:8080/"
        },
        "id": "88w1TdIrPXwl",
        "outputId": "2c3a3585-fc81-4444-c82a-bd0e52642965"
      },
      "execution_count": null,
      "outputs": [
        {
          "output_type": "stream",
          "name": "stdout",
          "text": [
            "[3, 11, 18, 28, 32, 35, 41, 49, 64, 66, 73, 91, 102, 103, 110, 126, 132, 150, 154, 157, 171, 184, 202, 217, 224, 230, 238, 246, 252, 252, 293, 293, 302, 330, 348, 354, 359, 366, 377, 381, 409, 427, 428, 434, 450, 469, 479, 479, 480, 481, 484, 498, 505, 509, 515, 517, 532, 537, 564, 576, 580, 589, 601, 609, 616, 677, 688, 701, 708, 715, 732, 768, 781, 781, 789, 795, 818, 823, 827, 830, 837, 848, 872, 872, 874, 889, 890, 894, 911, 927, 930, 943, 944, 949, 959, 964, 967, 991, 991, 997]\n"
          ]
        }
      ]
    },
    {
      "cell_type": "code",
      "source": [
        "import random\n",
        "\n",
        "N = 100\n",
        "a = [random.randint(1,1000) for i in range(N)]\n",
        "\n",
        "\n",
        "gap = 1\n",
        "while gap < N//3:\n",
        "  gap = 3*gap +1\n",
        "\n",
        "while gap >0:\n",
        "  for i in range(gap,N):\n",
        "    for j in range(i-gap,-1,-gap):\n",
        "      if a[j]>a[j+gap]:\n",
        "        a[j],a[j+gap] = a[j+gap],a[j]\n",
        "      else:\n",
        "          break\n",
        "  gap//=3\n",
        "\n",
        "print(a)"
      ],
      "metadata": {
        "colab": {
          "base_uri": "https://localhost:8080/"
        },
        "id": "kWRqWPICVybY",
        "outputId": "88a3b665-836c-4897-e4c7-0ebe00270a54"
      },
      "execution_count": null,
      "outputs": [
        {
          "output_type": "stream",
          "name": "stdout",
          "text": [
            "[11, 12, 16, 23, 32, 36, 42, 46, 49, 52, 54, 57, 58, 70, 78, 86, 94, 106, 113, 117, 126, 134, 142, 148, 149, 176, 178, 185, 203, 203, 203, 204, 211, 231, 243, 250, 272, 275, 317, 327, 327, 342, 343, 346, 346, 356, 372, 372, 391, 397, 408, 425, 434, 435, 439, 470, 502, 505, 510, 512, 535, 541, 541, 544, 549, 570, 581, 585, 610, 611, 619, 658, 667, 670, 687, 700, 708, 711, 717, 744, 744, 752, 753, 762, 763, 779, 795, 802, 802, 804, 822, 840, 850, 855, 861, 878, 881, 919, 936, 999]\n"
          ]
        }
      ]
    }
  ]
}